{
 "cells": [
  {
   "cell_type": "markdown",
   "metadata": {},
   "source": [
    "## Import modules"
   ]
  },
  {
   "cell_type": "code",
   "execution_count": 1,
   "metadata": {},
   "outputs": [],
   "source": [
    "import numpy as np\n",
    "import matplotlib.pyplot as plt\n",
    "% matplotlib inline\n",
    "\n",
    "import tensorflow as tf\n",
    "import tensorflow.contrib.eager as tfe\n",
    "\n",
    "# Run only once!\n",
    "tf.enable_eager_execution()"
   ]
  },
  {
   "cell_type": "code",
   "execution_count": 2,
   "metadata": {},
   "outputs": [
    {
     "name": "stdout",
     "output_type": "stream",
     "text": [
      "TensorFlow version: 1.9.0\n",
      "Eager execution: True\n"
     ]
    }
   ],
   "source": [
    "print(\"TensorFlow version: {}\".format(tf.VERSION))\n",
    "print(\"Eager execution: {}\".format(tf.executing_eagerly()))"
   ]
  },
  {
   "cell_type": "markdown",
   "metadata": {},
   "source": [
    "## The XOR Problem"
   ]
  },
  {
   "cell_type": "code",
   "execution_count": 3,
   "metadata": {},
   "outputs": [
    {
     "data": {
      "image/png": "[encoded data removed]",
      "text/plain": [
       "<Figure size 432x288 with 1 Axes>"
      ]
     },
     "metadata": {},
     "output_type": "display_data"
    }
   ],
   "source": [
    "# Illustration of the problem\n",
    "XOR_True = [(1, 0), (0, 1)]\n",
    "XOR_False = [(0, 0), (1, 1)]\n",
    "feat1, feat2 = zip(*XOR_True)\n",
    "plt.scatter(feat1, feat2, c=\"g\", label='Output: 1')\n",
    "feat1, feat2 = zip(*XOR_False)\n",
    "plt.scatter(feat1, feat2, c=\"r\", label='Output: 0')\n",
    "plt.xlabel('First feature')\n",
    "plt.ylabel('Second feature')\n",
    "plt.legend(bbox_to_anchor=(1.1, 1.05))\n",
    "plt.title('XOR problem: How to classify the datapoints?')\n",
    "plt.show()"
   ]
  },
  {
   "cell_type": "markdown",
   "metadata": {},
   "source": [
    "## Data"
   ]
  },
  {
   "cell_type": "code",
   "execution_count": 4,
   "metadata": {},
   "outputs": [],
   "source": [
    "# Create dataset with features and labels for use with TensorFlow\n",
    "features, labels = (tf.constant([[0,0],[0,1],[1,0],[1,1]], \"float32\"), tf.constant([[0],[1],[1],[0]], \"float32\"))\n",
    "#train_dataset = tf.data.Dataset.from_tensor_slices((features,labels))"
   ]
  },
  {
   "cell_type": "markdown",
   "metadata": {},
   "source": [
    "## Parameters"
   ]
  },
  {
   "cell_type": "code",
   "execution_count": 5,
   "metadata": {},
   "outputs": [],
   "source": [
    "# Parameters\n",
    "num_epochs = 1000\n",
    "n_hidden_1 = 32        # 32 nodes in hidden layer\n",
    "num_classes = 1        # 1 output node\n",
    "learning_rate = 0.001   "
   ]
  },
  {
   "cell_type": "markdown",
   "metadata": {},
   "source": [
    "## Build neural network model with hidden layer, using Keras' \"models\" module"
   ]
  },
  {
   "cell_type": "code",
   "execution_count": 6,
   "metadata": {},
   "outputs": [],
   "source": [
    "# Setup Model (with activation functions relu and sigmoid)\n",
    "class Model(tf.keras.Model):   \n",
    "    \n",
    "    def __init__(self, n_hidden_1, num_classes):\n",
    "        super(Model, self).__init__()\n",
    "        self.layer1 = tf.keras.layers.Dense(n_hidden_1, activation='relu')\n",
    "        self.out_layer = tf.keras.layers.Dense(num_classes, activation='sigmoid')\n",
    "    \n",
    "    def call(self, inputs, training=None, mask=None):\n",
    "        x = self.layer1(inputs)\n",
    "        return self.out_layer(x)\n",
    "    \n",
    "model = Model(n_hidden_1, num_classes)"
   ]
  },
  {
   "cell_type": "markdown",
   "metadata": {},
   "source": [
    "## Loss function and optimizer"
   ]
  },
  {
   "cell_type": "code",
   "execution_count": 7,
   "metadata": {},
   "outputs": [],
   "source": [
    "# Define the loss and gradient function\n",
    "def loss_function(model, x, y):\n",
    "    y_ = model(x)\n",
    "    return tf.losses.mean_squared_error(labels=y, predictions=y_)   # use MSE for loss function\n",
    "\n",
    "loss = loss_function(model, features, labels)"
   ]
  },
  {
   "cell_type": "code",
   "execution_count": 8,
   "metadata": {},
   "outputs": [],
   "source": [
    "# The optimizer applies the computed gradients to the model's variables to minimize the loss function. \n",
    "optimizer = tf.train.AdamOptimizer(learning_rate=learning_rate)"
   ]
  },
  {
   "cell_type": "markdown",
   "metadata": {},
   "source": [
    "## Training "
   ]
  },
  {
   "cell_type": "code",
   "execution_count": 9,
   "metadata": {},
   "outputs": [
    {
     "name": "stdout",
     "output_type": "stream",
     "text": [
      "Epoch 001: Loss: 0.239\n",
      "Epoch 100: Loss: 0.188\n",
      "Epoch 200: Loss: 0.137\n",
      "Epoch 300: Loss: 0.095\n",
      "Epoch 400: Loss: 0.066\n",
      "Epoch 500: Loss: 0.049\n",
      "Epoch 600: Loss: 0.037\n",
      "Epoch 700: Loss: 0.030\n",
      "Epoch 800: Loss: 0.025\n",
      "Epoch 900: Loss: 0.021\n",
      "Epoch 1000: Loss: 0.018\n"
     ]
    }
   ],
   "source": [
    "# Steps:\n",
    "# Iterate num_epochs\n",
    "# Make prediction and compare with label\n",
    "# Measure inaccuracy of the prediction and calculate loss\n",
    "# Update model with optimizer\n",
    "\n",
    "for epoch in range(num_epochs):\n",
    "    grads = tfe.implicit_gradients(loss_function)(model, features, labels)\n",
    "    optimizer.apply_gradients(grads)\n",
    "    \n",
    "    if (epoch==0) | ((epoch+1)%100==0):\n",
    "        print(\"Epoch {:03d}: Loss: {:.3f}\".format(epoch+1, loss_function(model, features, labels).numpy()))"
   ]
  },
  {
   "cell_type": "code",
   "execution_count": null,
   "metadata": {},
   "outputs": [],
   "source": []
  }
 ],
 "metadata": {
  "kernelspec": {
   "display_name": "Python 3",
   "language": "python",
   "name": "python3"
  },
  "language_info": {
   "codemirror_mode": {
    "name": "ipython",
    "version": 3
   },
   "file_extension": ".py",
   "mimetype": "text/x-python",
   "name": "python",
   "nbconvert_exporter": "python",
   "pygments_lexer": "ipython3",
   "version": "3.6.6"
  }
 },
 "nbformat": 4,
 "nbformat_minor": 2
}
