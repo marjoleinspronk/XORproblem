{
 "cells": [
  {
   "cell_type": "markdown",
   "metadata": {},
   "source": [
    "## Import modules"
   ]
  },
  {
   "cell_type": "code",
   "execution_count": 1,
   "metadata": {},
   "outputs": [],
   "source": [
    "import numpy as np\n",
    "import tensorflow as tf\n",
    "import tensorflow.contrib.eager as tfe\n",
    "\n",
    "# Run this line only once!\n",
    "tf.enable_eager_execution()"
   ]
  },
  {
   "cell_type": "code",
   "execution_count": 2,
   "metadata": {},
   "outputs": [
    {
     "name": "stdout",
     "output_type": "stream",
     "text": [
      "TensorFlow version: 1.9.0\n",
      "Eager execution: True\n"
     ]
    }
   ],
   "source": [
    "print(\"TensorFlow version: {}\".format(tf.VERSION))\n",
    "print(\"Eager execution: {}\".format(tf.executing_eagerly()))"
   ]
  },
  {
   "cell_type": "markdown",
   "metadata": {},
   "source": [
    "## Data and Parameters"
   ]
  },
  {
   "cell_type": "code",
   "execution_count": 3,
   "metadata": {},
   "outputs": [],
   "source": [
    "# Create tensors with features and labels for TensorFlow\n",
    "features, labels = (tf.constant([[0,0],[0,1],[1,0],[1,1]], \"float32\"), \n",
    "                    tf.constant([[0],[1],[1],[0]], \"float32\"))\n",
    "\n",
    "# Parameters\n",
    "num_epochs = 1000\n",
    "n_hidden_1 = 32        # 32 nodes in hidden layer\n",
    "num_classes = 1        # 1 output node\n",
    "learning_rate = 0.001  "
   ]
  },
  {
   "cell_type": "markdown",
   "metadata": {},
   "source": [
    "## Build model with single hidden layer"
   ]
  },
  {
   "cell_type": "code",
   "execution_count": 4,
   "metadata": {},
   "outputs": [],
   "source": [
    "class Model(tf.keras.Model):\n",
    "    def __init__(self, n_hidden_1, num_classes):\n",
    "        super(Model, self).__init__()\n",
    "        \"\"\" Define the network layers. \"\"\"   \n",
    "        self.dense_layer = tf.keras.layers.Dense(n_hidden_1, activation='relu')\n",
    "        self.output_layer = tf.keras.layers.Dense(num_classes, activation='sigmoid')\n",
    "    \n",
    "    def predict(self, input_data):\n",
    "        \"\"\" Pass input_data through the network and return predictions. \"\"\"\n",
    "        hidden_activations = self.dense_layer(input_data)\n",
    "        x = self.output_layer(hidden_activations)\n",
    "        return x    \n",
    "    \n",
    "    def loss_function(self, input_data, target):\n",
    "        \"\"\" Loss function used during training. \"\"\"\n",
    "        y_pred = self.predict(input_data)\n",
    "        loss = tf.losses.mean_squared_error(labels=labels, predictions=y_pred)\n",
    "        return loss\n",
    "    \n",
    "    def grads_function(self, input_data, target):\n",
    "        \"\"\" Compute gradients of the loss value for the optimizer. \"\"\"\n",
    "        with tfe.GradientTape() as tape:\n",
    "            loss = self.loss_function(input_data, target)\n",
    "        return tape.gradient(loss, self.variables)  \n",
    "    "
   ]
  },
  {
   "cell_type": "markdown",
   "metadata": {},
   "source": [
    "## Train the model"
   ]
  },
  {
   "cell_type": "code",
   "execution_count": 5,
   "metadata": {},
   "outputs": [],
   "source": [
    "# Define Optimizer\n",
    "optimizer = tf.train.AdamOptimizer(learning_rate=learning_rate)"
   ]
  },
  {
   "cell_type": "code",
   "execution_count": 6,
   "metadata": {},
   "outputs": [
    {
     "name": "stdout",
     "output_type": "stream",
     "text": [
      "Epoch 001: Loss: 0.242,\n",
      "Epoch 100: Loss: 0.199,\n",
      "Epoch 200: Loss: 0.144,\n",
      "Epoch 300: Loss: 0.094,\n",
      "Epoch 400: Loss: 0.058,\n",
      "Epoch 500: Loss: 0.035,\n",
      "Epoch 600: Loss: 0.022,\n",
      "Epoch 700: Loss: 0.015,\n",
      "Epoch 800: Loss: 0.010,\n",
      "Epoch 900: Loss: 0.007,\n",
      "Epoch 1000: Loss: 0.006,\n"
     ]
    }
   ],
   "source": [
    "# Train the neural network and print loss\n",
    "model = Model(n_hidden_1, num_classes)\n",
    "\n",
    "for epoch in range(num_epochs):\n",
    "    \n",
    "    grads = model.grads_function(features, labels)\n",
    "    optimizer.apply_gradients(zip(grads, model.variables))\n",
    "    \n",
    "    if (epoch==0) | ((epoch+1)%100==0):\n",
    "        print(\"Epoch {:03d}: Loss: {:.3f},\".format(epoch+1, model.loss_function(features, labels).numpy()))"
   ]
  },
  {
   "cell_type": "code",
   "execution_count": null,
   "metadata": {},
   "outputs": [],
   "source": []
  }
 ],
 "metadata": {
  "kernelspec": {
   "display_name": "Python 3",
   "language": "python",
   "name": "python3"
  },
  "language_info": {
   "codemirror_mode": {
    "name": "ipython",
    "version": 3
   },
   "file_extension": ".py",
   "mimetype": "text/x-python",
   "name": "python",
   "nbconvert_exporter": "python",
   "pygments_lexer": "ipython3",
   "version": "3.6.6"
  }
 },
 "nbformat": 4,
 "nbformat_minor": 2
}
